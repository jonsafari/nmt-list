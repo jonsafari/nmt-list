{
 "cells": [
  {
   "cell_type": "code",
   "execution_count": 1,
   "metadata": {
    "collapsed": false
   },
   "outputs": [],
   "source": [
    "import re\n",
    "from collections import defaultdict, namedtuple\n",
    "\n",
    "from lazyme import per_section\n",
    "\n",
    "NMTMeta = namedtuple('NMTMeta', 'name website who comments')\n",
    "\n",
    "def get_name_website(s):\n",
    "    try:\n",
    "        caught = re.search(r\"\\|?(.*)?\\[(.*)\\]\\((.*)\\)(.*)?\", s)\n",
    "        if s.startswith('###'):\n",
    "            name = caught.group(2)\n",
    "        else:\n",
    "            name = ' '.join([caught.group(1), caught.group(2), caught.group(4)]).strip()\n",
    "        website = caught.group(3)\n",
    "    except AttributeError:\n",
    "        name = re.search(r\"(###)?\\s(.*)\", s).group(2)\n",
    "        website = None\n",
    "    return name, website\n",
    "\n",
    "\n",
    "nmt_list = defaultdict(list)\n",
    "\n",
    "with open('README.md') as fin:\n",
    "    for section in list(per_section(fin)):\n",
    "        if '| Software | Who | Comments |' in section or section[0] == '### Other':\n",
    "            header_name, header_website = get_name_website(section[0])\n",
    "            nmt_type = (header_name, header_website)\n",
    "            for row in section[3:]:\n",
    "                first_column = row.split(' | ')[0]\n",
    "                name, website  = get_name_website(first_column)\n",
    "                who = row.split(' | ')[1]\n",
    "                comments = row.split(' | ')[2]\n",
    "                nmt_tool = NMTMeta._make([name, website, who, comments])\n",
    "                nmt_list[nmt_type].append(nmt_tool)\n",
    "                "
   ]
  },
  {
   "cell_type": "code",
   "execution_count": 2,
   "metadata": {
    "collapsed": false
   },
   "outputs": [],
   "source": [
    "def loop_thru_nmt(nmt_list):\n",
    "    for nmt_type in nmt_list:\n",
    "        for nmt_tool in nmt_list[nmt_type]:\n",
    "            yield nmt_tool"
   ]
  },
  {
   "cell_type": "code",
   "execution_count": 3,
   "metadata": {
    "collapsed": false
   },
   "outputs": [],
   "source": [
    "num_nmt, num_seq2seq, num_dl4mt = 0, 0, 0\n",
    "num_derivedfrom_dl4mt = 0\n",
    "\n",
    "for nmt_tool in loop_thru_nmt(nmt_list):\n",
    "    name, website, who, comments = list(nmt_tool)\n",
    "    if 'nmt' in name:\n",
    "        num_nmt += 1\n",
    "    if 'seq2seq' in name:\n",
    "        num_seq2seq += 1\n",
    "    if 'dl4mt' in name:\n",
    "        num_dl4mt += 1\n",
    "        num_derivedfrom_dl4mt += 1\n",
    "    if 'dl4mt' in comments:\n",
    "        num_derivedfrom_dl4mt += 1"
   ]
  },
  {
   "cell_type": "code",
   "execution_count": 4,
   "metadata": {
    "collapsed": false
   },
   "outputs": [
    {
     "name": "stdout",
     "output_type": "stream",
     "text": [
      "\n",
      "## Project Stats\n",
      "* **5** project names include *nmt*\n",
      "* **5** project names include *seq2seq*\n",
      "* **2** project names include *dl4mt*\n",
      "* **3** projects are derived from Kyunghyun Cho's tutorial at the 2015 [DL4MT winter school](http://dl4mt.computing.dcu.ie)\n",
      "\n"
     ]
    }
   ],
   "source": [
    "template = \"\"\"\n",
    "## Project Stats\n",
    "* **{nmt}** project names include *nmt*\n",
    "* **{seq2seq}** project names include *seq2seq*\n",
    "* **{dl4mt}** project names include *dl4mt*\n",
    "* **{derived}** projects are derived from Kyunghyun Cho's tutorial at the 2015 [DL4MT winter school](http://dl4mt.computing.dcu.ie)\n",
    "\"\"\"\n",
    "\n",
    "print (template.format(nmt=num_nmt, seq2seq=num_seq2seq, dl4mt=num_dl4mt, derived=num_derivedfrom_dl4mt))"
   ]
  },
  {
   "cell_type": "code",
   "execution_count": null,
   "metadata": {
    "collapsed": true
   },
   "outputs": [],
   "source": []
  }
 ],
 "metadata": {
  "kernelspec": {
   "display_name": "Python 3",
   "language": "python",
   "name": "python3"
  },
  "language_info": {
   "codemirror_mode": {
    "name": "ipython",
    "version": 3
   },
   "file_extension": ".py",
   "mimetype": "text/x-python",
   "name": "python",
   "nbconvert_exporter": "python",
   "pygments_lexer": "ipython3",
   "version": "3.6.1"
  }
 },
 "nbformat": 4,
 "nbformat_minor": 1
}
